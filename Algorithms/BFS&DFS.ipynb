{
 "cells": [
  {
   "cell_type": "markdown",
   "metadata": {},
   "source": [
    "# BFS & DFS"
   ]
  },
  {
   "cell_type": "code",
   "execution_count": 57,
   "metadata": {},
   "outputs": [],
   "source": [
    "class Queue:\n",
    "    max_size = 10\n",
    "    def __init__(self, max_size):\n",
    "        self.items = []\n",
    "        self.max_size = max_size\n",
    "        size = 0\n",
    "\n",
    "    def isFull(self):\n",
    "        return len(self.items) == self.max_size\n",
    "    def isEmpty(self):\n",
    "        return len(self.items) == 0\n",
    "    def enqueue(self, e):\n",
    "        if self.isFull():\n",
    "            return \"Error, Queue is full!\"\n",
    "        else:\n",
    "            self.items.append(e)\n",
    "    def dequeue(self):\n",
    "        if self.isEmpty():\n",
    "            return \"Error, Queue is empty!\"\n",
    "        else:\n",
    "            return self.items.pop(0)\n",
    "        return e\n",
    "    def set_maxSize(self, s):\n",
    "        self.max_size = s\n",
    "    def front(self):\n",
    "        if self.isEmpty():\n",
    "            return \"Error, Queue is empty!\"\n",
    "        else:\n",
    "            print(self.items[0])\n",
    "    def rear(self):\n",
    "        if self.isEmpty():\n",
    "            return \"Error, Queue is empty!\"\n",
    "        else:\n",
    "            print(self.items[-1])\n",
    "\n",
    "    def size(self):\n",
    "        return len(self.items)\n",
    "    \n",
    "    def __str__(self):\n",
    "        return \"Queue = {}\".format(self.items)\n"
   ]
  },
  {
   "cell_type": "code",
   "execution_count": 58,
   "metadata": {},
   "outputs": [],
   "source": [
    "class Stack:\n",
    "    max_size = 10\n",
    "    def __init__(self, max_size):\n",
    "        self.items = []\n",
    "        self.max_size = max_size\n",
    "        size = 0\n",
    "\n",
    "    def isFull(self):\n",
    "        return len(self.items) == self.max_size\n",
    "    \n",
    "    def isEmpty(self):\n",
    "        return len(self.items) == 0\n",
    "    \n",
    "    def push(self, e):\n",
    "        if self.isFull():\n",
    "            return \"Error, Stack is full!\"\n",
    "        else:\n",
    "            self.items.append(e)\n",
    "    def pop(self):\n",
    "        if self.isEmpty():\n",
    "            return \"Error, Stack is empty!\"\n",
    "        else:\n",
    "            return self.items.pop()\n",
    "        return e\n",
    "    def set_maxSize(self, s):\n",
    "        self.max_size = s\n",
    "    def front(self):\n",
    "        if self.isEmpty():\n",
    "            return \"Error, Stack is empty!\"\n",
    "        else:\n",
    "            print(self.items[0])\n",
    "    def rear(self):\n",
    "        if self.isEmpty():\n",
    "            return \"Error, Stack is empty!\"\n",
    "        else:\n",
    "            print(self.items[-1])\n",
    "\n",
    "    def size(self):\n",
    "        return len(self.items)\n",
    "    \n",
    "    def __str__(self):\n",
    "        return \"Stack = {}\".format(self.items)\n"
   ]
  },
  {
   "cell_type": "code",
   "execution_count": 59,
   "metadata": {},
   "outputs": [],
   "source": [
    "graph = {\n",
    "    'a' : ['b', 'c', 'd'],\n",
    "    'b' : ['f', 'g'],\n",
    "    'c' : ['e'],\n",
    "    'd' : ['h', 'i'],\n",
    "    'e' : [],\n",
    "    'f' : ['j'],\n",
    "    'g' : ['k'],\n",
    "    'h' : ['l'],\n",
    "    'i' : ['m'],\n",
    "    'j' : [],\n",
    "    'k' : ['n'],\n",
    "    'l' : ['o', 'p'],\n",
    "    'm' : [],\n",
    "    'n' : [],\n",
    "    'o' : [],\n",
    "    'p' : [],\n",
    "}\n"
   ]
  },
  {
   "cell_type": "code",
   "execution_count": 60,
   "metadata": {},
   "outputs": [],
   "source": [
    "def bfs(graph, root):\n",
    "    q = Queue(len(graph.keys()))\n",
    "    visited = set()\n",
    "    \n",
    "    visited.add(root)\n",
    "    q.enqueue(root)\n",
    "    \n",
    "    while q.isEmpty() == False:\n",
    "        n = q.dequeue()\n",
    "        print (n, end = \" \") \n",
    "        \n",
    "        for x in graph[n]:\n",
    "            if x not in visited:\n",
    "                visited.add(x)\n",
    "                q.enqueue(x)\n",
    "    "
   ]
  },
  {
   "cell_type": "code",
   "execution_count": 61,
   "metadata": {},
   "outputs": [],
   "source": [
    "def dfs(graph, root):\n",
    "    s = Stack(len(graph.keys()))\n",
    "    visited = set()\n",
    "    \n",
    "    visited.add(root)\n",
    "    s.push(root)\n",
    "    \n",
    "    #print (root, end = \" \") \n",
    "    \n",
    "    while s.isEmpty() == False:\n",
    "        n = s.pop()\n",
    "        print (n, end = \" \") \n",
    "        \n",
    "       # for x in graph[n]:\n",
    "       #     if x not in visited:\n",
    "       #         visited.add(x)\n",
    "       #         s.push(x)\n",
    "                \n",
    "        for x in graph[n][::-1]:\n",
    "            if x not in visited:\n",
    "                visited.add(x)\n",
    "                s.push(x)\n",
    "    "
   ]
  },
  {
   "cell_type": "code",
   "execution_count": 62,
   "metadata": {},
   "outputs": [
    {
     "name": "stdout",
     "output_type": "stream",
     "text": [
      "a b f j g k n c e d h l o p i m "
     ]
    }
   ],
   "source": [
    "dfs(graph, 'a')"
   ]
  },
  {
   "cell_type": "code",
   "execution_count": 63,
   "metadata": {},
   "outputs": [
    {
     "name": "stdout",
     "output_type": "stream",
     "text": [
      "a b c d f g e h i j k l m n o p "
     ]
    }
   ],
   "source": [
    "bfs(graph, 'a')"
   ]
  },
  {
   "cell_type": "code",
   "execution_count": null,
   "metadata": {},
   "outputs": [],
   "source": []
  }
 ],
 "metadata": {
  "kernelspec": {
   "display_name": "Python 3",
   "language": "python",
   "name": "python3"
  },
  "language_info": {
   "codemirror_mode": {
    "name": "ipython",
    "version": 3
   },
   "file_extension": ".py",
   "mimetype": "text/x-python",
   "name": "python",
   "nbconvert_exporter": "python",
   "pygments_lexer": "ipython3",
   "version": "3.8.10"
  }
 },
 "nbformat": 4,
 "nbformat_minor": 4
}
