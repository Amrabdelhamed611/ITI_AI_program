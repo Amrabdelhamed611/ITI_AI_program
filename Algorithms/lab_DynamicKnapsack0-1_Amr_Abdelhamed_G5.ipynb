{
 "cells": [
  {
   "cell_type": "code",
   "execution_count": 1,
   "id": "eb6d0f3a",
   "metadata": {},
   "outputs": [],
   "source": [
    "import numpy as np\n"
   ]
  },
  {
   "cell_type": "code",
   "execution_count": 2,
   "id": "d2f7e3e3",
   "metadata": {},
   "outputs": [
    {
     "data": {
      "text/plain": [
       "817770325994397771"
      ]
     },
     "execution_count": 2,
     "metadata": {},
     "output_type": "execute_result"
    }
   ],
   "source": [
    "def fib_dynamic_iteritive(n):\n",
    "    arr= np.array([0,0,1],dtype=np.int64)\n",
    "    if (n  ==0) :\n",
    "        return arr[n+1]\n",
    "    else:\n",
    "        for i in range(1,n):\n",
    "            arr = np.roll(arr,2)\n",
    "            arr[2] = arr[:2].sum()\n",
    "        return arr[2]       \n",
    "fib_dynamic_iteritive(1000)        \n",
    "    "
   ]
  },
  {
   "cell_type": "code",
   "execution_count": 3,
   "id": "9f1fd696",
   "metadata": {},
   "outputs": [
    {
     "data": {
      "text/plain": [
       "3"
      ]
     },
     "execution_count": 3,
     "metadata": {},
     "output_type": "execute_result"
    }
   ],
   "source": [
    "def fib_dynamic_recursive(n,idx=1,arr=[0,0,1]):\n",
    "    arr =np.array(arr,dtype =np.int64)\n",
    "    if (n ==idx) :\n",
    "        return arr[2]\n",
    "    elif(n < 2):\n",
    "        return arr[n+1]\n",
    "    else:\n",
    "        arr = np.roll(arr,2)\n",
    "        arr[2] = arr[:2].sum()\n",
    "        return fib_dynamic_recursive(n,idx+1,arr) \n",
    "fib_dynamic_recursive(4)"
   ]
  },
  {
   "cell_type": "code",
   "execution_count": 44,
   "id": "1540f8ab",
   "metadata": {},
   "outputs": [
    {
     "name": "stdout",
     "output_type": "stream",
     "text": [
      "[[0. 0. 0. 0. 0. 0. 0. 0. 0.]\n",
      " [0. 0. 0. 2. 2. 2. 2. 2. 2.]\n",
      " [0. 0. 0. 2. 3. 3. 3. 5. 5.]\n",
      " [0. 0. 0. 2. 3. 3. 3. 5. 5.]\n",
      " [0. 0. 0. 2. 3. 4. 4. 5. 6.]]\n"
     ]
    }
   ],
   "source": [
    "def DynamicknapsackItr(weights,valus,bagWeight):\n",
    "    rows= len(valus)+1\n",
    "    cols = bagWeight+1\n",
    "    profitmat= np.zeros((rows,cols))\n",
    "    \n",
    "    for v in range(1,rows):\n",
    "        \n",
    "        for w in range(3,cols):\n",
    "            \n",
    "            if (w-weights[v-1])<0:\n",
    "                  profitmat[v,w]=(profitmat[v-1][w])\n",
    "            else:\n",
    "                  profitmat[v,w]=(max(profitmat[v-1,w],profitmat[v-1,w-weights[v-1]]+valus[v-1]))\n",
    "            \n",
    "    print(profitmat)\n",
    "items =[3,4,6,5] \n",
    "valus =[2,3,1,4]\n",
    "DynamicknapsackItr(items,valus,8)"
   ]
  },
  {
   "cell_type": "code",
   "execution_count": null,
   "id": "0d32175d",
   "metadata": {},
   "outputs": [],
   "source": [
    "\n"
   ]
  },
  {
   "cell_type": "code",
   "execution_count": null,
   "id": "82793f26",
   "metadata": {},
   "outputs": [],
   "source": [
    "\n"
   ]
  },
  {
   "cell_type": "code",
   "execution_count": null,
   "id": "f120a05b",
   "metadata": {},
   "outputs": [],
   "source": []
  },
  {
   "cell_type": "code",
   "execution_count": null,
   "id": "e4fc8171",
   "metadata": {},
   "outputs": [],
   "source": []
  }
 ],
 "metadata": {
  "kernelspec": {
   "display_name": "Python 3",
   "language": "python",
   "name": "python3"
  },
  "language_info": {
   "codemirror_mode": {
    "name": "ipython",
    "version": 3
   },
   "file_extension": ".py",
   "mimetype": "text/x-python",
   "name": "python",
   "nbconvert_exporter": "python",
   "pygments_lexer": "ipython3",
   "version": "3.8.10"
  }
 },
 "nbformat": 4,
 "nbformat_minor": 5
}
