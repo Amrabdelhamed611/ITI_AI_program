{
 "cells": [
  {
   "cell_type": "markdown",
   "metadata": {},
   "source": [
    "# Factorial Iterative\n"
   ]
  },
  {
   "cell_type": "code",
   "execution_count": 1,
   "metadata": {},
   "outputs": [
    {
     "data": {
      "text/plain": [
       "120"
      ]
     },
     "execution_count": 1,
     "metadata": {},
     "output_type": "execute_result"
    }
   ],
   "source": [
    "def iterative_fact(n):\n",
    "    fact =1\n",
    "    for i in range(1, n+1):\n",
    "        fact=i*fact\n",
    "    return fact\n",
    "iterative_fact(5)"
   ]
  },
  {
   "cell_type": "markdown",
   "metadata": {},
   "source": [
    "# Recursive Factorial\n"
   ]
  },
  {
   "cell_type": "code",
   "execution_count": 2,
   "metadata": {},
   "outputs": [
    {
     "data": {
      "text/plain": [
       "3628800"
      ]
     },
     "execution_count": 2,
     "metadata": {},
     "output_type": "execute_result"
    }
   ],
   "source": [
    "def fact(n):\n",
    "    if n<=1:\n",
    "        return 1\n",
    "    return  n*fact(n-1)\n",
    "fact(10)"
   ]
  },
  {
   "cell_type": "markdown",
   "metadata": {},
   "source": [
    "# Bonus Question Tail recursive Factorial"
   ]
  },
  {
   "cell_type": "code",
   "execution_count": 3,
   "metadata": {},
   "outputs": [
    {
     "data": {
      "text/plain": [
       "3628800"
      ]
     },
     "execution_count": 3,
     "metadata": {},
     "output_type": "execute_result"
    }
   ],
   "source": [
    "def factTail(n,a=1):\n",
    "    if n<=1:\n",
    "        return a\n",
    "    return factTail(n-1,a*n)\n",
    "factTail(10,1)"
   ]
  },
  {
   "cell_type": "code",
   "execution_count": null,
   "metadata": {},
   "outputs": [],
   "source": [
    "\n"
   ]
  },
  {
   "cell_type": "markdown",
   "metadata": {},
   "source": [
    "# Fibonacci Iterative\n"
   ]
  },
  {
   "cell_type": "code",
   "execution_count": 60,
   "metadata": {},
   "outputs": [
    {
     "data": {
      "text/plain": [
       "8"
      ]
     },
     "execution_count": 60,
     "metadata": {},
     "output_type": "execute_result"
    }
   ],
   "source": [
    "import numpy as np\n",
    "def fibIterative(n):\n",
    "    acc =np.array([0,1,1])\n",
    "    for i in range(2,n):\n",
    "        acc = np.roll(acc, -1, axis=0)\n",
    "        acc[2] = acc[0]+acc[1]\n",
    "    return acc[2]\n",
    "fibIterative(6)"
   ]
  },
  {
   "cell_type": "code",
   "execution_count": null,
   "metadata": {},
   "outputs": [],
   "source": []
  },
  {
   "cell_type": "markdown",
   "metadata": {},
   "source": [
    "# Fibonacci Recursion"
   ]
  },
  {
   "cell_type": "code",
   "execution_count": 61,
   "metadata": {},
   "outputs": [
    {
     "data": {
      "text/plain": [
       "8"
      ]
     },
     "execution_count": 61,
     "metadata": {},
     "output_type": "execute_result"
    }
   ],
   "source": [
    "def fibRecursion(n):\n",
    "    if n==0:\n",
    "        return 0\n",
    "    elif n==1:\n",
    "        return 1\n",
    "    else:\n",
    "        return fibRecursion(n-1)+fibRecursion(n-2)\n",
    "\n",
    "fibRecursion(6)"
   ]
  },
  {
   "cell_type": "markdown",
   "metadata": {},
   "source": [
    "#  Bonus Question Tail Recursion Fibonacci"
   ]
  },
  {
   "cell_type": "code",
   "execution_count": 63,
   "metadata": {},
   "outputs": [
    {
     "data": {
      "text/plain": [
       "55"
      ]
     },
     "execution_count": 63,
     "metadata": {},
     "output_type": "execute_result"
    }
   ],
   "source": [
    "def T_fibRecursion(n ,e0=0,e1=1):\n",
    "    if n==0:\n",
    "        return e1\n",
    "    elif n==1:\n",
    "        return e1\n",
    "    else:\n",
    "        return T_fibRecursion(n-1,e1,e0+e1)\n",
    "\n",
    "T_fibRecursion(10)"
   ]
  },
  {
   "cell_type": "markdown",
   "metadata": {},
   "source": [
    "# Iterative Linear Search"
   ]
  },
  {
   "cell_type": "code",
   "execution_count": 6,
   "metadata": {},
   "outputs": [],
   "source": [
    "import random \n",
    "m0 = [[1,2,3,4,5,6,7,8],[9,8,7,6,5,4,3],[0],[9,2,5,7,8,6,4,3,2,2],[2,2,3,4,6,5,7,2,9],[5,2,8,9,3,1,0]]"
   ]
  },
  {
   "cell_type": "code",
   "execution_count": 7,
   "metadata": {},
   "outputs": [
    {
     "name": "stdout",
     "output_type": "stream",
     "text": [
      "input : [1, 2, 3, 4, 5, 6, 7, 8] sarch for :3 \n",
      "Output found : 3 ,in index : 2 \n",
      "\n",
      "input : [9, 8, 7, 6, 5, 4, 3] sarch for :1 \n",
      "Output :not found \n",
      "\n",
      "input : [0] sarch for :9 \n",
      "Output :not found \n",
      "\n",
      "input : [9, 2, 5, 7, 8, 6, 4, 3, 2, 2] sarch for :6 \n",
      "Output found : 6 ,in index : 5 \n",
      "\n",
      "input : [2, 2, 3, 4, 6, 5, 7, 2, 9] sarch for :8 \n",
      "Output :not found \n",
      "\n",
      "input : [5, 2, 8, 9, 3, 1, 0] sarch for :8 \n",
      "Output found : 8 ,in index : 2 \n",
      "\n"
     ]
    }
   ],
   "source": [
    "def Iterative_linear_search(arr,val):\n",
    "    for idx,item in enumerate(arr):\n",
    "        if val == item:\n",
    "            return (idx ,item)\n",
    "    return \"not found\"\n",
    "\n",
    "\n",
    "\n",
    "for lsst in m0:\n",
    "    val = random.randint(0,9)\n",
    "    ret=Iterative_linear_search(lsst,val)\n",
    "    if isinstance(ret,str):\n",
    "        print(f\"input : {lsst } sarch for :{val} \\nOutput :{ret} \\n\")   \n",
    "    else:\n",
    "        print(f\"input : {lsst } sarch for :{val} \\nOutput found : {ret[1]} ,in index : {ret[0]} \\n\") \n",
    "#complexity n"
   ]
  },
  {
   "cell_type": "code",
   "execution_count": 8,
   "metadata": {},
   "outputs": [],
   "source": [
    "#complexity n"
   ]
  },
  {
   "cell_type": "markdown",
   "metadata": {},
   "source": [
    "# Recursion linear search"
   ]
  },
  {
   "cell_type": "code",
   "execution_count": 9,
   "metadata": {},
   "outputs": [
    {
     "name": "stdout",
     "output_type": "stream",
     "text": [
      "input : [1, 2, 3, 4, 5, 6, 7, 8] sarch for : 5 \n",
      "Output found: 5 ,in index: 4 \n",
      "input : [9, 8, 7, 6, 5, 4, 3] sarch for : 0 \n",
      "Output :val not found \n",
      "input : [0] sarch for : 2 \n",
      "Output :val not found \n",
      "input : [9, 2, 5, 7, 8, 6, 4, 3, 2, 2] sarch for : 2 \n",
      "Output found: 2 ,in index: 1 \n",
      "input : [2, 2, 3, 4, 6, 5, 7, 2, 9] sarch for : 6 \n",
      "Output found: 6 ,in index: 4 \n",
      "input : [5, 2, 8, 9, 3, 1, 0] sarch for : 8 \n",
      "Output found: 8 ,in index: 2 \n"
     ]
    }
   ],
   "source": [
    "def Recursive_linear_search(arr,val,idx=0):\n",
    "    if len(arr) <= 0:\n",
    "        return \"val not found\"\n",
    "    elif arr[0] == val:\n",
    "        return (idx ,val)\n",
    "    else:\n",
    "        return Recursive_linear_search(arr[1:],val,idx=idx+1)\n",
    "    \n",
    "\n",
    "\n",
    "\n",
    "for lsst in m0:\n",
    "    val = random.randint(0,9)\n",
    "    ret=Recursive_linear_search(lsst,val)\n",
    "    if isinstance(ret,str):\n",
    "        print(f\"input : {lsst } sarch for : {val} \\nOutput :{ret} \")   \n",
    "    else:\n",
    "        print(f\"input : {lsst } sarch for : {val} \\nOutput found: {ret[1]} ,in index: {ret[0]} \") \n",
    "#complexity n"
   ]
  },
  {
   "cell_type": "code",
   "execution_count": 10,
   "metadata": {},
   "outputs": [],
   "source": [
    "#complexity n"
   ]
  },
  {
   "cell_type": "markdown",
   "metadata": {},
   "source": [
    "# iterative gcd"
   ]
  },
  {
   "cell_type": "code",
   "execution_count": 11,
   "metadata": {},
   "outputs": [],
   "source": [
    "def GCD_iterative(b,a):\n",
    "    if b<a:\n",
    "        a,b = b,a\n",
    "    div = a\n",
    "    while((b%div !=0 ) or (a%div != 0)):\n",
    "        div = div -1\n",
    "    return div"
   ]
  },
  {
   "cell_type": "markdown",
   "metadata": {},
   "source": [
    "# recursion GCD"
   ]
  },
  {
   "cell_type": "code",
   "execution_count": 12,
   "metadata": {},
   "outputs": [],
   "source": [
    "def GCD_recursion(b,a,div=-1):\n",
    "    if b<a:\n",
    "        a,b = b,a\n",
    "    if div==-1:\n",
    "        div = a \n",
    "    if ((b%div ==0 )and (a%div == 0)):\n",
    "        return div\n",
    "    else:\n",
    "        return GCD_recursion(b,a,div-1)\n",
    "    "
   ]
  },
  {
   "cell_type": "code",
   "execution_count": 13,
   "metadata": {},
   "outputs": [
    {
     "name": "stdout",
     "output_type": "stream",
     "text": [
      "4\n",
      "4\n"
     ]
    }
   ],
   "source": [
    "b = 32\n",
    "a= 12\n",
    "print(GCD_iterative(b,a))\n",
    "print(GCD_recursion(b,a))"
   ]
  },
  {
   "cell_type": "markdown",
   "metadata": {},
   "source": [
    "# Iterative Eculidean  GCD"
   ]
  },
  {
   "cell_type": "code",
   "execution_count": 14,
   "metadata": {},
   "outputs": [],
   "source": [
    "def EGCD_iterative(b,a):\n",
    "    if b<a:\n",
    "        a,b = b,a\n",
    "    while(b%a !=0):\n",
    "        b ,a = a, b%a\n",
    "    return a"
   ]
  },
  {
   "cell_type": "markdown",
   "metadata": {},
   "source": [
    "# Recursion Eculidean GCD"
   ]
  },
  {
   "cell_type": "code",
   "execution_count": 15,
   "metadata": {},
   "outputs": [],
   "source": [
    "def EGCD_recursion(b,a):\n",
    "    if b<a:\n",
    "        a,b = b,a\n",
    "    if b%a == 0:\n",
    "        return a\n",
    "    else:\n",
    "        return GCD_recursion(a,b%a)\n",
    "    "
   ]
  },
  {
   "cell_type": "code",
   "execution_count": 16,
   "metadata": {},
   "outputs": [
    {
     "name": "stdout",
     "output_type": "stream",
     "text": [
      "2\n",
      "2\n"
     ]
    }
   ],
   "source": [
    "b = 10000\n",
    "a= 34\n",
    "print(EGCD_iterative(b,a))\n",
    "print(EGCD_recursion(b,a))"
   ]
  },
  {
   "cell_type": "markdown",
   "metadata": {},
   "source": [
    "# Insertion sort Iterative"
   ]
  },
  {
   "cell_type": "code",
   "execution_count": 17,
   "metadata": {},
   "outputs": [
    {
     "data": {
      "text/plain": [
       "[100, 1, 2, 3, 5, 46, 2, 3, 6, 9]"
      ]
     },
     "execution_count": 17,
     "metadata": {},
     "output_type": "execute_result"
    }
   ],
   "source": [
    "lst =[1,2,3,5,46,2,3,6,9]\n",
    "lst.insert(0,100)\n",
    "lst.insert(0,100)\n",
    "lst.pop(1)\n",
    "lst"
   ]
  },
  {
   "cell_type": "code",
   "execution_count": 18,
   "metadata": {},
   "outputs": [
    {
     "data": {
      "text/plain": [
       "[1, 2, 2, 3, 3, 5, 6, 9, 46, 100]"
      ]
     },
     "execution_count": 18,
     "metadata": {},
     "output_type": "execute_result"
    }
   ],
   "source": [
    "def Insertion_sort_Iterative(array):\n",
    "    pos = 0\n",
    "    flag = False\n",
    "    for idx in range(1,len(array)):\n",
    "        flag =False\n",
    "        for i in range(idx,-1,-1):\n",
    "            if array[idx]< array[i]:\n",
    "                flag= True\n",
    "                pos = i\n",
    "        if flag == True:\n",
    "            val =array.pop(idx)\n",
    "            array.insert(pos,val)\n",
    "    return array\n",
    "Insertion_sort_Iterative(lst.copy())"
   ]
  },
  {
   "cell_type": "code",
   "execution_count": 19,
   "metadata": {},
   "outputs": [],
   "source": [
    "#complixty n**2"
   ]
  },
  {
   "cell_type": "markdown",
   "metadata": {},
   "source": [
    "# Insertion sort Recursive"
   ]
  },
  {
   "cell_type": "code",
   "execution_count": 20,
   "metadata": {},
   "outputs": [
    {
     "data": {
      "text/plain": [
       "[1, 2, 2, 3, 3, 5, 6, 9, 46, 100]"
      ]
     },
     "execution_count": 20,
     "metadata": {},
     "output_type": "execute_result"
    }
   ],
   "source": [
    "def Insertion_sort_Recursive(array):\n",
    "    def _sort(array,idx,i,pos =0,flag=False):\n",
    "        if len(array) == idx:\n",
    "            return array\n",
    "        elif i<0:\n",
    "            if flag == True:\n",
    "                val = array.pop(idx)\n",
    "                array.insert(pos,val)\n",
    "            return _sort(array,idx+1,idx) \n",
    "        else:\n",
    "            if array[idx] < array[i]:\n",
    "                return _sort(array,idx,i-1,pos=i,flag =True)\n",
    "            return _sort(array,idx,i-1,pos,flag)\n",
    "    \n",
    "    array = _sort(array,1,0)\n",
    "    return array\n",
    "    \n",
    "        \n",
    "Insertion_sort_Recursive(lst.copy())"
   ]
  },
  {
   "cell_type": "markdown",
   "metadata": {},
   "source": [
    "# Bubble sort"
   ]
  },
  {
   "cell_type": "code",
   "execution_count": 9,
   "metadata": {},
   "outputs": [
    {
     "name": "stdout",
     "output_type": "stream",
     "text": [
      "unsorted  [5, 3, 8, 6, 7, 2]\n",
      "sorted:  [3, 5, 6, 7, 8, 2]\n"
     ]
    }
   ],
   "source": [
    "def bubble_sort(arr):  \n",
    "    \n",
    "    for i in range(0,len(arr)-1): \n",
    "        flag = False\n",
    "        for j in range(1,len(arr)-1):  \n",
    "            if(arr[j]<arr[j-1]):  \n",
    "                arr[j]  , arr[j-1]  =arr[j-1]  , arr[j]\n",
    "                flag = True\n",
    "        if not flag: \n",
    "            return arr\n",
    "    return arr  \n",
    "  \n",
    "ls = [5, 3, 8, 6, 7, 2]  \n",
    "print(\"unsorted \", ls)  \n",
    "print(\"sorted: \", bubble_sort(ls))  \n",
    "\n",
    "#complexity n**2"
   ]
  },
  {
   "cell_type": "markdown",
   "metadata": {},
   "source": [
    "# Binary Search Iterative"
   ]
  },
  {
   "cell_type": "code",
   "execution_count": 23,
   "metadata": {},
   "outputs": [
    {
     "data": {
      "text/plain": [
       "(3, 4)"
      ]
     },
     "execution_count": 23,
     "metadata": {},
     "output_type": "execute_result"
    }
   ],
   "source": [
    "def Iterative_Binary_search(arr,val):\n",
    "    left = len(arr)\n",
    "    right = 0\n",
    "    while left>right:\n",
    "        mid = right + int((left-right)/2)\n",
    "        #print(mid,\" \",left,\" \",right)\n",
    "        if arr[mid] == val:\n",
    "            return mid,val\n",
    "        elif arr[mid]  > val:\n",
    "            # goto elemnts on the right\n",
    "            left = mid\n",
    "        else:\n",
    "            # goto elemnts on the left\n",
    "            right = mid+1\n",
    "    return \"not found\"\n",
    "\n",
    "Iterative_Binary_search([1, 2, 3, 4, 5, 6, 7, 8],4)\n",
    "#complexity log n"
   ]
  },
  {
   "cell_type": "code",
   "execution_count": null,
   "metadata": {},
   "outputs": [],
   "source": [
    "complexity log n"
   ]
  },
  {
   "cell_type": "markdown",
   "metadata": {},
   "source": [
    "# Binary Search Recursive"
   ]
  },
  {
   "cell_type": "markdown",
   "metadata": {},
   "source": []
  },
  {
   "cell_type": "markdown",
   "metadata": {},
   "source": [
    "\n"
   ]
  },
  {
   "cell_type": "code",
   "execution_count": 24,
   "metadata": {},
   "outputs": [
    {
     "data": {
      "text/plain": [
       "'not found'"
      ]
     },
     "execution_count": 24,
     "metadata": {},
     "output_type": "execute_result"
    }
   ],
   "source": [
    "def Recursive_Binary_search(arr,val):\n",
    "    mid = int(len(arr)/2)\n",
    "    if len(arr)<=0:\n",
    "        return \"not found\"\n",
    "    elif arr[mid] == val:\n",
    "        return mid,val\n",
    "    elif arr[mid]  > val:\n",
    "        # goto elemnts on the right\n",
    "        return Recursive_Binary_search(arr[:mid],val)\n",
    "    else:\n",
    "        # goto elemnts on the left\n",
    "        return Recursive_Binary_search(arr[ mid+1:],val)\n",
    "    \n",
    "#complexity log n\n",
    "Recursive_Binary_search([1, 2, 3, 4, 5, 6, 7, 8],0)\n"
   ]
  },
  {
   "cell_type": "code",
   "execution_count": null,
   "metadata": {},
   "outputs": [],
   "source": [
    "#complexity log n  "
   ]
  },
  {
   "cell_type": "markdown",
   "metadata": {},
   "source": [
    "\n",
    "\n"
   ]
  }
 ],
 "metadata": {
  "kernelspec": {
   "display_name": "Python 3",
   "language": "python",
   "name": "python3"
  },
  "language_info": {
   "codemirror_mode": {
    "name": "ipython",
    "version": 3
   },
   "file_extension": ".py",
   "mimetype": "text/x-python",
   "name": "python",
   "nbconvert_exporter": "python",
   "pygments_lexer": "ipython3",
   "version": "3.8.8"
  },
  "toc": {
   "base_numbering": 1,
   "nav_menu": {},
   "number_sections": true,
   "sideBar": true,
   "skip_h1_title": false,
   "title_cell": "Table of Contents",
   "title_sidebar": "Contents",
   "toc_cell": false,
   "toc_position": {},
   "toc_section_display": true,
   "toc_window_display": false
  }
 },
 "nbformat": 4,
 "nbformat_minor": 4
}
