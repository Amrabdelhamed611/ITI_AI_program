{
 "cells": [
  {
   "cell_type": "code",
   "execution_count": null,
   "id": "5b8a111c",
   "metadata": {},
   "outputs": [],
   "source": [
    "import matplotlib.pyplot as plt\n",
    "import networkx as nx"
   ]
  },
  {
   "cell_type": "code",
   "execution_count": 2,
   "id": "a146ca5f",
   "metadata": {},
   "outputs": [
    {
     "data": {
      "image/png": "[encoded data removed]",
      "text/plain": [
       "<Figure size 432x288 with 1 Axes>"
      ]
     },
     "metadata": {},
     "output_type": "display_data"
    }
   ],
   "source": [
    "garphs = {\"B\":[\"D\",'F'],\"C\":[\"G\"],\"A\":[\"B\",\"C\"]}\n",
    "g=nx.Graph(garphs)\n",
    "nx.draw_shell(g ,with_labels=True, font_weight='bold',node_size=500,)\n"
   ]
  },
  {
   "cell_type": "code",
   "execution_count": 3,
   "id": "343aff1d",
   "metadata": {},
   "outputs": [
    {
     "data": {
      "text/plain": [
       "[('A', 'B'), ('B', 'D'), ('B', 'F'), ('A', 'C'), ('C', 'G')]"
      ]
     },
     "execution_count": 3,
     "metadata": {},
     "output_type": "execute_result"
    }
   ],
   "source": [
    "\n",
    "list(nx.edge_dfs(g,'A'))"
   ]
  },
  {
   "cell_type": "code",
   "execution_count": 4,
   "id": "d2148a4c",
   "metadata": {},
   "outputs": [
    {
     "data": {
      "text/plain": [
       "[('A', 'B'), ('A', 'C'), ('B', 'D'), ('B', 'F'), ('C', 'G')]"
      ]
     },
     "execution_count": 4,
     "metadata": {},
     "output_type": "execute_result"
    }
   ],
   "source": [
    "list(nx.edge_bfs(g,\"A\"))"
   ]
  },
  {
   "cell_type": "code",
   "execution_count": 5,
   "id": "8b61d6ac",
   "metadata": {},
   "outputs": [
    {
     "data": {
      "image/png": "[encoded data removed]",
      "text/plain": [
       "<Figure size 640x480 with 1 Axes>"
      ]
     },
     "metadata": {},
     "output_type": "display_data"
    }
   ],
   "source": [
    "\n",
    "\n",
    "G = nx.Graph()\n",
    "plt.figure(figsize=(8, 6), dpi=80)\n",
    "\n",
    "G.add_edge(\"a\", \"b\", weight=0.6)\n",
    "G.add_edge(\"a\", \"c\", weight=0.2)\n",
    "G.add_edge(\"c\", \"d\", weight=0.1)\n",
    "G.add_edge(\"c\", \"e\", weight=0.7)\n",
    "G.add_edge(\"c\", \"f\", weight=0.9)\n",
    "G.add_edge(\"a\", \"d\", weight=0.3)\n",
    "\n",
    "elarge = [(u, v) for (u, v, d) in G.edges(data=True) if d[\"weight\"] > 0.5]\n",
    "esmall = [(u, v) for (u, v, d) in G.edges(data=True) if d[\"weight\"] <= 0.5]\n",
    "\n",
    "pos = nx.spring_layout(G)  # positions for all nodes\n",
    "\n",
    "# nodes\n",
    "nx.draw_networkx_nodes(G, pos, node_size=700)\n",
    "\n",
    "# edges\n",
    "nx.draw_networkx_edges(G, pos, edgelist=elarge, width=6)\n",
    "nx.draw_networkx_edges(\n",
    "    G, pos, edgelist=esmall, width=6, alpha=0.5, edge_color=\"b\", style=\"dashed\"\n",
    ")\n",
    "\n",
    "# labels\n",
    "nx.draw_networkx_labels(G, pos, font_size=20, font_family=\"sans-serif\")\n",
    "labels = nx.get_edge_attributes(G, 'weight')\n",
    "nx.draw_networkx_edge_labels(G, pos, edge_labels=labels)\n",
    "plt.axis(\"off\")\n",
    "\n",
    "plt.show()"
   ]
  },
  {
   "cell_type": "code",
   "execution_count": null,
   "id": "c4ee4101",
   "metadata": {},
   "outputs": [],
   "source": []
  },
  {
   "cell_type": "code",
   "execution_count": 6,
   "id": "2c9ed531",
   "metadata": {},
   "outputs": [
    {
     "data": {
      "text/plain": [
       "['e', 'c', 'a', 'b']"
      ]
     },
     "execution_count": 6,
     "metadata": {},
     "output_type": "execute_result"
    }
   ],
   "source": [
    "list(nx.dijkstra_path(G,\"e\",'b'))"
   ]
  },
  {
   "cell_type": "code",
   "execution_count": 7,
   "id": "c9283e91",
   "metadata": {},
   "outputs": [
    {
     "data": {
      "text/plain": [
       "[('f', 'c', {'weight': 0.9}),\n",
       " ('c', 'd', {'weight': 0.1}),\n",
       " ('c', 'a', {'weight': 0.2}),\n",
       " ('a', 'b', {'weight': 0.6}),\n",
       " ('c', 'e', {'weight': 0.7})]"
      ]
     },
     "execution_count": 7,
     "metadata": {},
     "output_type": "execute_result"
    }
   ],
   "source": [
    "list(nx.algorithms.tree.mst.prim_mst_edges(G,'b'))"
   ]
  },
  {
   "cell_type": "code",
   "execution_count": 8,
   "id": "f2b8de77",
   "metadata": {},
   "outputs": [
    {
     "data": {
      "text/plain": [
       "[('c', 'd', {'weight': 0.1}),\n",
       " ('a', 'c', {'weight': 0.2}),\n",
       " ('a', 'b', {'weight': 0.6}),\n",
       " ('c', 'e', {'weight': 0.7}),\n",
       " ('c', 'f', {'weight': 0.9})]"
      ]
     },
     "execution_count": 8,
     "metadata": {},
     "output_type": "execute_result"
    }
   ],
   "source": [
    "list(nx.algorithms.tree.mst.kruskal_mst_edges(G,'b'))"
   ]
  },
  {
   "cell_type": "code",
   "execution_count": null,
   "id": "aaf09cb7",
   "metadata": {},
   "outputs": [],
   "source": []
  },
  {
   "cell_type": "code",
   "execution_count": null,
   "id": "83b6c675",
   "metadata": {},
   "outputs": [],
   "source": []
  }
 ],
 "metadata": {
  "kernelspec": {
   "display_name": "Python 3",
   "language": "python",
   "name": "python3"
  },
  "language_info": {
   "codemirror_mode": {
    "name": "ipython",
    "version": 3
   },
   "file_extension": ".py",
   "mimetype": "text/x-python",
   "name": "python",
   "nbconvert_exporter": "python",
   "pygments_lexer": "ipython3",
   "version": "3.8.10"
  }
 },
 "nbformat": 4,
 "nbformat_minor": 5
}
